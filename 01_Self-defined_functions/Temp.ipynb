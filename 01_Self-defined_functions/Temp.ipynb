{
 "cells": [
  {
   "cell_type": "code",
   "execution_count": null,
   "metadata": {
    "collapsed": true
   },
   "outputs": [],
   "source": [
    "def volatility_parity(dataframe, target=0.03, notional=100, window=5, leverage_cap=2):\n",
    "    \"\"\"\n",
    "    Generate a volatility targeting investment amount (weight) for each asset per day based on a self-defined target volatility and a self-defined rolling window.\n",
    "\n",
    "    :param dataframe: pd.dataframe, a panel dataframe with several assets' daily returns over an arbitrary period.\n",
    "    :param target: float64 > 0, self-defined annualized volatility target for each asset. (0.03 by default)\n",
    "    :param notional: integer > 0, the notional amount that we originally allocate in each trade. (100 dollars by default)\n",
    "    :param window: integer > 0, the rolling window (days) for calculating the annualized standard deviation (volatility). (5 days by default)\n",
    "    :param leverage_cap: float64 >= 0.5,  the leverage cap applied to limit the scaled weights for assets. (2x by default)\n",
    "    :return: a dataframe with the notional amount being volatility-adjusted for each asset per day.\n",
    "    \"\"\"\n",
    "\n",
    "    frame = []\n",
    "    dataframe_1 = pd.DataFrame()\n",
    "    indexes = list(dataframe.columns)\n",
    "    for index in indexes:\n",
    "        vol = dataframe[index].rolling(window=window).std() * np.sqrt(252/window)\n",
    "        vol_scaled_weight = (target/vol) * notional\n",
    "        frame.append(vol_scaled_weight.to_frame(index))\n",
    "        dataframe_1 = pd.concat(frame, axis=1)\n",
    "        dataframe_1[dataframe_1 > leverage_cap * notional] = leverage_cap * notional\n",
    "        dataframe_1[dataframe_1 < -leverage_cap * notional] = -leverage_cap * notional\n",
    "    return dataframe_1.shift(1)"
   ]
  }
 ],
 "metadata": {
  "kernelspec": {
   "display_name": "Python 3",
   "language": "python",
   "name": "python3"
  },
  "language_info": {
   "codemirror_mode": {
    "name": "ipython",
    "version": 2
   },
   "file_extension": ".py",
   "mimetype": "text/x-python",
   "name": "python",
   "nbconvert_exporter": "python",
   "pygments_lexer": "ipython2",
   "version": "2.7.6"
  }
 },
 "nbformat": 4,
 "nbformat_minor": 0
}
