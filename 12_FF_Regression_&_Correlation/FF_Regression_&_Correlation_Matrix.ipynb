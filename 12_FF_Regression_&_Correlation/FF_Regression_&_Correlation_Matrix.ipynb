{
 "cells": [
  {
   "cell_type": "markdown",
   "source": [
    "## Fama-French Regression (Mkt-Rf, SMB, HML, Mom, ST_Rev, LT_Rev)"
   ],
   "metadata": {
    "collapsed": false
   }
  },
  {
   "cell_type": "code",
   "execution_count": 35,
   "outputs": [],
   "source": [
    "fama_factors = pd.read_csv('FF_Research_Data_Factors.csv', index_col=0)\n",
    "fama_factors = fama_factors / 100\n",
    "df_ff = fama_factors[1:].reset_index().drop('index', axis=1)\n",
    "df_ff['intercept'] = 1\n",
    "df_ff = df_ff[['intercept', 'Mkt-RF', 'SMB', 'HML', 'Mom   ', 'ST_Rev', 'LT_Rev']]"
   ],
   "metadata": {
    "collapsed": false
   }
  },
  {
   "cell_type": "markdown",
   "source": [
    "### OLS Model"
   ],
   "metadata": {
    "collapsed": false
   }
  },
  {
   "cell_type": "code",
   "execution_count": 36,
   "outputs": [
    {
     "name": "stdout",
     "output_type": "stream",
     "text": [
      "                            OLS Regression Results                            \n",
      "==============================================================================\n",
      "Dep. Variable:                      0   R-squared:                       0.280\n",
      "Model:                            OLS   Adj. R-squared:                  0.265\n",
      "Method:                 Least Squares   F-statistic:                     18.33\n",
      "Date:                Fri, 09 Dec 2022   Prob (F-statistic):           5.58e-18\n",
      "Time:                        20:07:39   Log-Likelihood:                -541.72\n",
      "No. Observations:                 290   AIC:                             1097.\n",
      "Df Residuals:                     283   BIC:                             1123.\n",
      "Df Model:                           6                                         \n",
      "Covariance Type:            nonrobust                                         \n",
      "==============================================================================\n",
      "                 coef    std err          t      P>|t|      [0.025      0.975]\n",
      "------------------------------------------------------------------------------\n",
      "intercept      0.0039      0.001      4.089      0.000       0.002       0.006\n",
      "Mkt-RF        -0.0941      0.023     -4.033      0.000      -0.140      -0.048\n",
      "SMB           -0.0251      0.035     -0.726      0.469      -0.093       0.043\n",
      "HML            0.2284      0.036      6.316      0.000       0.157       0.300\n",
      "Mom           -0.0370      0.020     -1.815      0.071      -0.077       0.003\n",
      "ST_Rev         0.0732      0.026      2.814      0.005       0.022       0.124\n",
      "LT_Rev        -0.0646      0.043     -1.487      0.138      -0.150       0.021\n",
      "==============================================================================\n",
      "Omnibus:                       61.497   Durbin-Watson:                   1.930\n",
      "Prob(Omnibus):                  0.000   Jarque-Bera (JB):              896.847\n",
      "Skew:                          -0.279   Prob(JB):                    1.79e-195\n",
      "Kurtosis:                      11.597   Cond. No.                         59.4\n",
      "==============================================================================\n",
      "\n",
      "Notes:\n",
      "[1] Standard Errors assume that the covariance matrix of the errors is correctly specified.\n"
     ]
    }
   ],
   "source": [
    "OLS_Q = cum_OLS_Q_strategy_return.pct_change()[1:].reset_index().drop('index', axis=1)\n",
    "print(OLS(OLS_Q * 100, df_ff.reset_index().drop('index', axis=1) * 100).fit().summary())"
   ],
   "metadata": {
    "collapsed": false
   }
  },
  {
   "cell_type": "code",
   "execution_count": 37,
   "outputs": [
    {
     "name": "stdout",
     "output_type": "stream",
     "text": [
      "                            OLS Regression Results                            \n",
      "==============================================================================\n",
      "Dep. Variable:                      0   R-squared:                       0.836\n",
      "Model:                            OLS   Adj. R-squared:                  0.832\n",
      "Method:                 Least Squares   F-statistic:                     239.7\n",
      "Date:                Fri, 09 Dec 2022   Prob (F-statistic):          8.06e-108\n",
      "Time:                        20:07:42   Log-Likelihood:                -609.96\n",
      "No. Observations:                 290   AIC:                             1234.\n",
      "Df Residuals:                     283   BIC:                             1260.\n",
      "Df Model:                           6                                         \n",
      "Covariance Type:            nonrobust                                         \n",
      "==============================================================================\n",
      "                 coef    std err          t      P>|t|      [0.025      0.975]\n",
      "------------------------------------------------------------------------------\n",
      "intercept      0.0151      0.001     12.622      0.000       0.013       0.017\n",
      "Mkt-RF         0.7824      0.030     26.515      0.000       0.724       0.841\n",
      "SMB            0.4416      0.044     10.106      0.000       0.356       0.528\n",
      "HML            0.3112      0.046      6.800      0.000       0.221       0.401\n",
      "Mom           -0.0604      0.026     -2.340      0.020      -0.111      -0.010\n",
      "ST_Rev         0.0882      0.033      2.682      0.008       0.023       0.153\n",
      "LT_Rev        -0.0267      0.055     -0.485      0.628      -0.135       0.082\n",
      "==============================================================================\n",
      "Omnibus:                       50.774   Durbin-Watson:                   1.567\n",
      "Prob(Omnibus):                  0.000   Jarque-Bera (JB):              198.070\n",
      "Skew:                           0.665   Prob(JB):                     9.76e-44\n",
      "Kurtosis:                       6.824   Cond. No.                         59.4\n",
      "==============================================================================\n",
      "\n",
      "Notes:\n",
      "[1] Standard Errors assume that the covariance matrix of the errors is correctly specified.\n"
     ]
    }
   ],
   "source": [
    "OLS_Q_L = cum_OLS_Q_strategy_return_L.pct_change()[1:].reset_index().drop('index', axis=1)\n",
    "print(OLS(OLS_Q_L * 100, df_ff.reset_index().drop('index', axis=1) * 100).fit().summary())"
   ],
   "metadata": {
    "collapsed": false
   }
  },
  {
   "cell_type": "code",
   "execution_count": 38,
   "outputs": [
    {
     "name": "stdout",
     "output_type": "stream",
     "text": [
      "                            OLS Regression Results                            \n",
      "==============================================================================\n",
      "Dep. Variable:                      0   R-squared:                       0.892\n",
      "Model:                            OLS   Adj. R-squared:                  0.890\n",
      "Method:                 Least Squares   F-statistic:                     390.2\n",
      "Date:                Fri, 09 Dec 2022   Prob (F-statistic):          1.11e-133\n",
      "Time:                        20:07:47   Log-Likelihood:                -585.23\n",
      "No. Observations:                 290   AIC:                             1184.\n",
      "Df Residuals:                     283   BIC:                             1210.\n",
      "Df Model:                           6                                         \n",
      "Covariance Type:            nonrobust                                         \n",
      "==============================================================================\n",
      "                 coef    std err          t      P>|t|      [0.025      0.975]\n",
      "------------------------------------------------------------------------------\n",
      "intercept      0.0074      0.001      6.703      0.000       0.005       0.010\n",
      "Mkt-RF         0.9699      0.027     35.796      0.000       0.917       1.023\n",
      "SMB            0.4914      0.040     12.247      0.000       0.412       0.570\n",
      "HML           -0.1461      0.042     -3.478      0.001      -0.229      -0.063\n",
      "Mom            0.0136      0.024      0.574      0.567      -0.033       0.060\n",
      "ST_Rev        -0.0581      0.030     -1.923      0.055      -0.118       0.001\n",
      "LT_Rev         0.1028      0.051      2.036      0.043       0.003       0.202\n",
      "==============================================================================\n",
      "Omnibus:                       72.923   Durbin-Watson:                   2.002\n",
      "Prob(Omnibus):                  0.000   Jarque-Bera (JB):              464.954\n",
      "Skew:                           0.834   Prob(JB):                    1.09e-101\n",
      "Kurtosis:                       8.974   Cond. No.                         59.4\n",
      "==============================================================================\n",
      "\n",
      "Notes:\n",
      "[1] Standard Errors assume that the covariance matrix of the errors is correctly specified.\n"
     ]
    }
   ],
   "source": [
    "OLS_Q_S = cum_OLS_Q_strategy_return_S.pct_change()[1:].reset_index().drop('index', axis=1)\n",
    "print(OLS(OLS_Q_S * 100, df_ff.reset_index().drop('index', axis=1) * 100).fit().summary())"
   ],
   "metadata": {
    "collapsed": false
   }
  },
  {
   "cell_type": "markdown",
   "source": [
    "### RF Model"
   ],
   "metadata": {
    "collapsed": false
   }
  },
  {
   "cell_type": "code",
   "execution_count": 39,
   "outputs": [
    {
     "name": "stdout",
     "output_type": "stream",
     "text": [
      "                            OLS Regression Results                            \n",
      "==============================================================================\n",
      "Dep. Variable:                      0   R-squared:                       0.521\n",
      "Model:                            OLS   Adj. R-squared:                  0.511\n",
      "Method:                 Least Squares   F-statistic:                     50.27\n",
      "Date:                Fri, 09 Dec 2022   Prob (F-statistic):           1.33e-41\n",
      "Time:                        20:08:08   Log-Likelihood:                -384.82\n",
      "No. Observations:                 284   AIC:                             783.6\n",
      "Df Residuals:                     277   BIC:                             809.2\n",
      "Df Model:                           6                                         \n",
      "Covariance Type:            nonrobust                                         \n",
      "==============================================================================\n",
      "                 coef    std err          t      P>|t|      [0.025      0.975]\n",
      "------------------------------------------------------------------------------\n",
      "intercept      0.0090      0.001     15.660      0.000       0.008       0.010\n",
      "Mkt-RF        -0.1322      0.014     -9.203      0.000      -0.160      -0.104\n",
      "SMB            0.2495      0.021     11.792      0.000       0.208       0.291\n",
      "HML            0.1421      0.022      6.489      0.000       0.099       0.185\n",
      "Mom           -0.0234      0.012     -1.899      0.059      -0.048       0.001\n",
      "ST_Rev         0.0226      0.016      1.435      0.152      -0.008       0.053\n",
      "LT_Rev         0.0291      0.027      1.096      0.274      -0.023       0.081\n",
      "==============================================================================\n",
      "Omnibus:                       97.501   Durbin-Watson:                   1.726\n",
      "Prob(Omnibus):                  0.000   Jarque-Bera (JB):              360.266\n",
      "Skew:                           1.437   Prob(JB):                     5.88e-79\n",
      "Kurtosis:                       7.710   Cond. No.                         60.1\n",
      "==============================================================================\n",
      "\n",
      "Notes:\n",
      "[1] Standard Errors assume that the covariance matrix of the errors is correctly specified.\n"
     ]
    }
   ],
   "source": [
    "RF_Q = cum_RF_Q_strategy_return.pct_change()[1:].reset_index().drop('index', axis=1)\n",
    "print(OLS(RF_Q * 100, df_ff[6:].reset_index().drop('index', axis=1) * 100).fit().summary())"
   ],
   "metadata": {
    "collapsed": false
   }
  },
  {
   "cell_type": "code",
   "execution_count": 40,
   "outputs": [
    {
     "name": "stdout",
     "output_type": "stream",
     "text": [
      "                            OLS Regression Results                            \n",
      "==============================================================================\n",
      "Dep. Variable:                      0   R-squared:                       0.883\n",
      "Model:                            OLS   Adj. R-squared:                  0.880\n",
      "Method:                 Least Squares   F-statistic:                     348.1\n",
      "Date:                Fri, 09 Dec 2022   Prob (F-statistic):          7.54e-126\n",
      "Time:                        20:08:10   Log-Likelihood:                -540.17\n",
      "No. Observations:                 284   AIC:                             1094.\n",
      "Df Residuals:                     277   BIC:                             1120.\n",
      "Df Model:                           6                                         \n",
      "Covariance Type:            nonrobust                                         \n",
      "==============================================================================\n",
      "                 coef    std err          t      P>|t|      [0.025      0.975]\n",
      "------------------------------------------------------------------------------\n",
      "intercept      0.0203      0.001     20.500      0.000       0.018       0.022\n",
      "Mkt-RF         0.7224      0.025     29.111      0.000       0.674       0.771\n",
      "SMB            0.6781      0.037     18.545      0.000       0.606       0.750\n",
      "HML            0.2002      0.038      5.293      0.000       0.126       0.275\n",
      "Mom           -0.0270      0.021     -1.270      0.205      -0.069       0.015\n",
      "ST_Rev         0.0218      0.027      0.801      0.424      -0.032       0.075\n",
      "LT_Rev         0.0175      0.046      0.382      0.703      -0.073       0.108\n",
      "==============================================================================\n",
      "Omnibus:                      103.197   Durbin-Watson:                   1.283\n",
      "Prob(Omnibus):                  0.000   Jarque-Bera (JB):              378.061\n",
      "Skew:                           1.535   Prob(JB):                     8.04e-83\n",
      "Kurtosis:                       7.745   Cond. No.                         60.1\n",
      "==============================================================================\n",
      "\n",
      "Notes:\n",
      "[1] Standard Errors assume that the covariance matrix of the errors is correctly specified.\n"
     ]
    }
   ],
   "source": [
    "RF_Q_L = cum_RF_Q_strategy_return_L.pct_change()[1:].reset_index().drop('index', axis=1)\n",
    "print(OLS(RF_Q_L * 100, df_ff[6:].reset_index().drop('index', axis=1) * 100).fit().summary())"
   ],
   "metadata": {
    "collapsed": false
   }
  },
  {
   "cell_type": "code",
   "execution_count": 41,
   "outputs": [
    {
     "name": "stdout",
     "output_type": "stream",
     "text": [
      "                            OLS Regression Results                            \n",
      "==============================================================================\n",
      "Dep. Variable:                      0   R-squared:                       0.948\n",
      "Model:                            OLS   Adj. R-squared:                  0.947\n",
      "Method:                 Least Squares   F-statistic:                     842.8\n",
      "Date:                Fri, 09 Dec 2022   Prob (F-statistic):          1.08e-174\n",
      "Time:                        20:08:15   Log-Likelihood:                -425.82\n",
      "No. Observations:                 284   AIC:                             865.6\n",
      "Df Residuals:                     277   BIC:                             891.2\n",
      "Df Model:                           6                                         \n",
      "Covariance Type:            nonrobust                                         \n",
      "==============================================================================\n",
      "                 coef    std err          t      P>|t|      [0.025      0.975]\n",
      "------------------------------------------------------------------------------\n",
      "intercept      0.0024      0.001      3.546      0.000       0.001       0.004\n",
      "Mkt-RF         0.9862      0.017     59.445      0.000       0.954       1.019\n",
      "SMB            0.1789      0.024      7.317      0.000       0.131       0.227\n",
      "HML           -0.0842      0.025     -3.330      0.001      -0.134      -0.034\n",
      "Mom            0.0197      0.014      1.387      0.167      -0.008       0.048\n",
      "ST_Rev        -0.0233      0.018     -1.285      0.200      -0.059       0.012\n",
      "LT_Rev        -0.0405      0.031     -1.321      0.188      -0.101       0.020\n",
      "==============================================================================\n",
      "Omnibus:                        7.514   Durbin-Watson:                   1.879\n",
      "Prob(Omnibus):                  0.023   Jarque-Bera (JB):               12.652\n",
      "Skew:                          -0.003   Prob(JB):                      0.00179\n",
      "Kurtosis:                       4.034   Cond. No.                         60.1\n",
      "==============================================================================\n",
      "\n",
      "Notes:\n",
      "[1] Standard Errors assume that the covariance matrix of the errors is correctly specified.\n"
     ]
    }
   ],
   "source": [
    "RF_Q_S = cum_RF_Q_strategy_return_S.pct_change()[1:].reset_index().drop('index', axis=1)\n",
    "print(OLS(RF_Q_S * 100, df_ff[6:].reset_index().drop('index', axis=1) * 100).fit().summary())"
   ],
   "metadata": {
    "collapsed": false
   }
  },
  {
   "cell_type": "markdown",
   "source": [
    "### NN5 Model"
   ],
   "metadata": {
    "collapsed": false
   }
  },
  {
   "cell_type": "code",
   "execution_count": 42,
   "outputs": [
    {
     "name": "stdout",
     "output_type": "stream",
     "text": [
      "                            OLS Regression Results                            \n",
      "==============================================================================\n",
      "Dep. Variable:                      0   R-squared:                       0.544\n",
      "Model:                            OLS   Adj. R-squared:                  0.534\n",
      "Method:                 Least Squares   F-statistic:                     55.12\n",
      "Date:                Fri, 09 Dec 2022   Prob (F-statistic):           1.61e-44\n",
      "Time:                        20:08:19   Log-Likelihood:                -385.69\n",
      "No. Observations:                 284   AIC:                             785.4\n",
      "Df Residuals:                     277   BIC:                             810.9\n",
      "Df Model:                           6                                         \n",
      "Covariance Type:            nonrobust                                         \n",
      "==============================================================================\n",
      "                 coef    std err          t      P>|t|      [0.025      0.975]\n",
      "------------------------------------------------------------------------------\n",
      "intercept      0.0087      0.001     15.053      0.000       0.008       0.010\n",
      "Mkt-RF        -0.1372      0.014     -9.526      0.000      -0.166      -0.109\n",
      "SMB            0.2720      0.021     12.816      0.000       0.230       0.314\n",
      "HML            0.1126      0.022      5.128      0.000       0.069       0.156\n",
      "Mom           -0.0125      0.012     -1.016      0.310      -0.037       0.012\n",
      "ST_Rev         0.0457      0.016      2.896      0.004       0.015       0.077\n",
      "LT_Rev         0.0450      0.027      1.690      0.092      -0.007       0.097\n",
      "==============================================================================\n",
      "Omnibus:                      107.729   Durbin-Watson:                   1.727\n",
      "Prob(Omnibus):                  0.000   Jarque-Bera (JB):              438.779\n",
      "Skew:                           1.565   Prob(JB):                     5.25e-96\n",
      "Kurtosis:                       8.223   Cond. No.                         60.1\n",
      "==============================================================================\n",
      "\n",
      "Notes:\n",
      "[1] Standard Errors assume that the covariance matrix of the errors is correctly specified.\n"
     ]
    }
   ],
   "source": [
    "NN5_Q = cum_NN5_Q_strategy_return.pct_change()[1:].reset_index().drop('index', axis=1)\n",
    "print(OLS(NN5_Q * 100, df_ff[6:].reset_index().drop('index', axis=1) * 100).fit().summary())"
   ],
   "metadata": {
    "collapsed": false
   }
  },
  {
   "cell_type": "code",
   "execution_count": 43,
   "outputs": [
    {
     "name": "stdout",
     "output_type": "stream",
     "text": [
      "                            OLS Regression Results                            \n",
      "==============================================================================\n",
      "Dep. Variable:                      0   R-squared:                       0.887\n",
      "Model:                            OLS   Adj. R-squared:                  0.885\n",
      "Method:                 Least Squares   F-statistic:                     363.3\n",
      "Date:                Fri, 09 Dec 2022   Prob (F-statistic):          3.99e-128\n",
      "Time:                        20:08:25   Log-Likelihood:                -541.56\n",
      "No. Observations:                 284   AIC:                             1097.\n",
      "Df Residuals:                     277   BIC:                             1123.\n",
      "Df Model:                           6                                         \n",
      "Covariance Type:            nonrobust                                         \n",
      "==============================================================================\n",
      "                 coef    std err          t      P>|t|      [0.025      0.975]\n",
      "------------------------------------------------------------------------------\n",
      "intercept      0.0203      0.001     20.398      0.000       0.018       0.022\n",
      "Mkt-RF         0.7218      0.025     28.948      0.000       0.673       0.771\n",
      "SMB            0.7251      0.037     19.735      0.000       0.653       0.797\n",
      "HML            0.1673      0.038      4.402      0.000       0.092       0.242\n",
      "Mom           -0.0095      0.021     -0.444      0.658      -0.052       0.033\n",
      "ST_Rev         0.0344      0.027      1.262      0.208      -0.019       0.088\n",
      "LT_Rev         0.0421      0.046      0.914      0.361      -0.049       0.133\n",
      "==============================================================================\n",
      "Omnibus:                      127.095   Durbin-Watson:                   1.206\n",
      "Prob(Omnibus):                  0.000   Jarque-Bera (JB):              620.539\n",
      "Skew:                           1.815   Prob(JB):                    1.79e-135\n",
      "Kurtosis:                       9.266   Cond. No.                         60.1\n",
      "==============================================================================\n",
      "\n",
      "Notes:\n",
      "[1] Standard Errors assume that the covariance matrix of the errors is correctly specified.\n"
     ]
    }
   ],
   "source": [
    "NN5_Q_L = cum_NN5_Q_strategy_return_L.pct_change()[1:].reset_index().drop('index', axis=1)\n",
    "print(OLS(NN5_Q_L * 100, df_ff[6:].reset_index().drop('index', axis=1) * 100).fit().summary())"
   ],
   "metadata": {
    "collapsed": false
   }
  },
  {
   "cell_type": "code",
   "execution_count": 44,
   "outputs": [
    {
     "name": "stdout",
     "output_type": "stream",
     "text": [
      "                            OLS Regression Results                            \n",
      "==============================================================================\n",
      "Dep. Variable:                      0   R-squared:                       0.947\n",
      "Model:                            OLS   Adj. R-squared:                  0.946\n",
      "Method:                 Least Squares   F-statistic:                     826.5\n",
      "Date:                Fri, 09 Dec 2022   Prob (F-statistic):          1.41e-173\n",
      "Time:                        20:08:30   Log-Likelihood:                -428.40\n",
      "No. Observations:                 284   AIC:                             870.8\n",
      "Df Residuals:                     277   BIC:                             896.3\n",
      "Df Model:                           6                                         \n",
      "Covariance Type:            nonrobust                                         \n",
      "==============================================================================\n",
      "                 coef    std err          t      P>|t|      [0.025      0.975]\n",
      "------------------------------------------------------------------------------\n",
      "intercept      0.0030      0.001      4.474      0.000       0.002       0.004\n",
      "Mkt-RF         0.9957      0.017     59.481      0.000       0.963       1.029\n",
      "SMB            0.1808      0.025      7.332      0.000       0.132       0.229\n",
      "HML           -0.0582      0.026     -2.281      0.023      -0.108      -0.008\n",
      "Mom            0.0156      0.014      1.088      0.278      -0.013       0.044\n",
      "ST_Rev        -0.0569      0.018     -3.103      0.002      -0.093      -0.021\n",
      "LT_Rev        -0.0477      0.031     -1.541      0.124      -0.109       0.013\n",
      "==============================================================================\n",
      "Omnibus:                       19.657   Durbin-Watson:                   1.926\n",
      "Prob(Omnibus):                  0.000   Jarque-Bera (JB):               51.304\n",
      "Skew:                           0.240   Prob(JB):                     7.24e-12\n",
      "Kurtosis:                       5.026   Cond. No.                         60.1\n",
      "==============================================================================\n",
      "\n",
      "Notes:\n",
      "[1] Standard Errors assume that the covariance matrix of the errors is correctly specified.\n"
     ]
    }
   ],
   "source": [
    "NN5_Q_S = cum_NN5_Q_strategy_return_S.pct_change()[1:].reset_index().drop('index', axis=1)\n",
    "print(OLS(NN5_Q_S * 100, df_ff[6:].reset_index().drop('index', axis=1) * 100).fit().summary())"
   ],
   "metadata": {
    "collapsed": false
   }
  },
  {
   "cell_type": "markdown",
   "source": [
    "### LSTM Model"
   ],
   "metadata": {
    "collapsed": false
   }
  },
  {
   "cell_type": "code",
   "execution_count": 45,
   "outputs": [
    {
     "name": "stdout",
     "output_type": "stream",
     "text": [
      "                            OLS Regression Results                            \n",
      "==============================================================================\n",
      "Dep. Variable:                      0   R-squared:                       0.539\n",
      "Model:                            OLS   Adj. R-squared:                  0.529\n",
      "Method:                 Least Squares   F-statistic:                     52.76\n",
      "Date:                Fri, 09 Dec 2022   Prob (F-statistic):           7.95e-43\n",
      "Time:                        20:08:50   Log-Likelihood:                -401.38\n",
      "No. Observations:                 278   AIC:                             816.8\n",
      "Df Residuals:                     271   BIC:                             842.2\n",
      "Df Model:                           6                                         \n",
      "Covariance Type:            nonrobust                                         \n",
      "==============================================================================\n",
      "                 coef    std err          t      P>|t|      [0.025      0.975]\n",
      "------------------------------------------------------------------------------\n",
      "intercept      0.0043      0.001      6.759      0.000       0.003       0.006\n",
      "Mkt-RF        -0.1248      0.016     -7.846      0.000      -0.156      -0.094\n",
      "SMB            0.1632      0.024      6.943      0.000       0.117       0.209\n",
      "HML            0.2280      0.024      9.419      0.000       0.180       0.276\n",
      "Mom           -0.0929      0.014     -6.823      0.000      -0.120      -0.066\n",
      "ST_Rev         0.0662      0.017      3.843      0.000       0.032       0.100\n",
      "LT_Rev        -0.0066      0.029     -0.226      0.821      -0.064       0.051\n",
      "==============================================================================\n",
      "Omnibus:                       17.487   Durbin-Watson:                   1.657\n",
      "Prob(Omnibus):                  0.000   Jarque-Bera (JB):               36.801\n",
      "Skew:                           0.293   Prob(JB):                     1.02e-08\n",
      "Kurtosis:                       4.684   Cond. No.                         60.3\n",
      "==============================================================================\n",
      "\n",
      "Notes:\n",
      "[1] Standard Errors assume that the covariance matrix of the errors is correctly specified.\n"
     ]
    }
   ],
   "source": [
    "LSTM_Q = cum_LSTM_Q_strategy_return.pct_change()[1:].reset_index().drop('index', axis=1)\n",
    "print(OLS(LSTM_Q*100, df_ff[12:].reset_index().drop('index', axis=1)*100).fit().summary())"
   ],
   "metadata": {
    "collapsed": false
   }
  },
  {
   "cell_type": "code",
   "execution_count": 46,
   "outputs": [
    {
     "name": "stdout",
     "output_type": "stream",
     "text": [
      "                            OLS Regression Results                            \n",
      "==============================================================================\n",
      "Dep. Variable:                      0   R-squared:                       0.872\n",
      "Model:                            OLS   Adj. R-squared:                  0.869\n",
      "Method:                 Least Squares   F-statistic:                     307.3\n",
      "Date:                Fri, 09 Dec 2022   Prob (F-statistic):          8.80e-118\n",
      "Time:                        20:08:56   Log-Likelihood:                -554.87\n",
      "No. Observations:                 278   AIC:                             1124.\n",
      "Df Residuals:                     271   BIC:                             1149.\n",
      "Df Model:                           6                                         \n",
      "Covariance Type:            nonrobust                                         \n",
      "==============================================================================\n",
      "                 coef    std err          t      P>|t|      [0.025      0.975]\n",
      "------------------------------------------------------------------------------\n",
      "intercept      0.0113      0.001     10.302      0.000       0.009       0.014\n",
      "Mkt-RF         0.7703      0.028     27.878      0.000       0.716       0.825\n",
      "SMB            0.5188      0.041     12.705      0.000       0.438       0.599\n",
      "HML            0.3301      0.042      7.851      0.000       0.247       0.413\n",
      "Mom           -0.1389      0.024     -5.875      0.000      -0.185      -0.092\n",
      "ST_Rev         0.1010      0.030      3.374      0.001       0.042       0.160\n",
      "LT_Rev        -0.0812      0.051     -1.596      0.112      -0.181       0.019\n",
      "==============================================================================\n",
      "Omnibus:                       52.202   Durbin-Watson:                   1.494\n",
      "Prob(Omnibus):                  0.000   Jarque-Bera (JB):              124.532\n",
      "Skew:                           0.891   Prob(JB):                     9.08e-28\n",
      "Kurtosis:                       5.753   Cond. No.                         60.3\n",
      "==============================================================================\n",
      "\n",
      "Notes:\n",
      "[1] Standard Errors assume that the covariance matrix of the errors is correctly specified.\n"
     ]
    }
   ],
   "source": [
    "LSTM_Q_L = cum_LSTM_Q_strategy_return_L.pct_change()[1:].reset_index().drop('index', axis=1)\n",
    "print(OLS(LSTM_Q_L*100, df_ff[12:].reset_index().drop('index', axis=1)*100).fit().summary())"
   ],
   "metadata": {
    "collapsed": false
   }
  },
  {
   "cell_type": "code",
   "execution_count": 47,
   "outputs": [
    {
     "name": "stdout",
     "output_type": "stream",
     "text": [
      "                            OLS Regression Results                            \n",
      "==============================================================================\n",
      "Dep. Variable:                      0   R-squared:                       0.940\n",
      "Model:                            OLS   Adj. R-squared:                  0.939\n",
      "Method:                 Least Squares   F-statistic:                     706.6\n",
      "Date:                Fri, 09 Dec 2022   Prob (F-statistic):          2.73e-162\n",
      "Time:                        20:09:03   Log-Likelihood:                -446.22\n",
      "No. Observations:                 278   AIC:                             906.4\n",
      "Df Residuals:                     271   BIC:                             931.8\n",
      "Df Model:                           6                                         \n",
      "Covariance Type:            nonrobust                                         \n",
      "==============================================================================\n",
      "                 coef    std err          t      P>|t|      [0.025      0.975]\n",
      "------------------------------------------------------------------------------\n",
      "intercept      0.0028      0.001      3.699      0.000       0.001       0.004\n",
      "Mkt-RF         1.0197      0.019     54.550      0.000       0.983       1.056\n",
      "SMB            0.1918      0.028      6.943      0.000       0.137       0.246\n",
      "HML           -0.1259      0.028     -4.427      0.000      -0.182      -0.070\n",
      "Mom            0.0474      0.016      2.964      0.003       0.016       0.079\n",
      "ST_Rev        -0.0315      0.020     -1.554      0.121      -0.071       0.008\n",
      "LT_Rev        -0.0679      0.034     -1.971      0.050      -0.136   -8.19e-05\n",
      "==============================================================================\n",
      "Omnibus:                        6.973   Durbin-Watson:                   1.736\n",
      "Prob(Omnibus):                  0.031   Jarque-Bera (JB):               11.322\n",
      "Skew:                          -0.008   Prob(JB):                      0.00348\n",
      "Kurtosis:                       3.989   Cond. No.                         60.3\n",
      "==============================================================================\n",
      "\n",
      "Notes:\n",
      "[1] Standard Errors assume that the covariance matrix of the errors is correctly specified.\n"
     ]
    }
   ],
   "source": [
    "LSTM_Q_S = cum_LSTM_Q_strategy_return_S.pct_change()[1:].reset_index().drop('index', axis=1)\n",
    "print(OLS(LSTM_Q_S*100, df_ff[12:].reset_index().drop('index', axis=1)*100).fit().summary())"
   ],
   "metadata": {
    "collapsed": false
   }
  },
  {
   "cell_type": "markdown",
   "source": [
    "## Correlation Matrix Between Strategies"
   ],
   "metadata": {
    "collapsed": false
   }
  },
  {
   "cell_type": "code",
   "execution_count": 200,
   "outputs": [
    {
     "data": {
      "text/plain": "<pandas.io.formats.style.Styler at 0x239f2e459a0>",
      "text/html": "<style type=\"text/css\">\n#T_e491a_row0_col0, #T_e491a_row1_col1, #T_e491a_row2_col2, #T_e491a_row3_col3, #T_e491a_row4_col4, #T_e491a_row5_col5, #T_e491a_row6_col6, #T_e491a_row7_col7, #T_e491a_row8_col8 {\n  background-color: #b40426;\n  color: #f1f1f1;\n}\n#T_e491a_row0_col1, #T_e491a_row0_col2, #T_e491a_row0_col3, #T_e491a_row0_col4, #T_e491a_row0_col5, #T_e491a_row0_col6, #T_e491a_row0_col7, #T_e491a_row3_col0, #T_e491a_row3_col8 {\n  background-color: #3b4cc0;\n  color: #f1f1f1;\n}\n#T_e491a_row0_col8 {\n  background-color: #3d50c3;\n  color: #f1f1f1;\n}\n#T_e491a_row1_col0 {\n  background-color: #92b4fe;\n  color: #000000;\n}\n#T_e491a_row1_col2 {\n  background-color: #f7b093;\n  color: #000000;\n}\n#T_e491a_row1_col3 {\n  background-color: #eb7d62;\n  color: #f1f1f1;\n}\n#T_e491a_row1_col4, #T_e491a_row6_col4 {\n  background-color: #de614d;\n  color: #f1f1f1;\n}\n#T_e491a_row1_col5, #T_e491a_row5_col1 {\n  background-color: #cb3e38;\n  color: #f1f1f1;\n}\n#T_e491a_row1_col6, #T_e491a_row6_col5 {\n  background-color: #c73635;\n  color: #f1f1f1;\n}\n#T_e491a_row1_col7 {\n  background-color: #d1493f;\n  color: #f1f1f1;\n}\n#T_e491a_row1_col8 {\n  background-color: #dbdcde;\n  color: #000000;\n}\n#T_e491a_row2_col0 {\n  background-color: #d5dbe5;\n  color: #000000;\n}\n#T_e491a_row2_col1 {\n  background-color: #f18f71;\n  color: #f1f1f1;\n}\n#T_e491a_row2_col3 {\n  background-color: #edd1c2;\n  color: #000000;\n}\n#T_e491a_row2_col4 {\n  background-color: #f7a98b;\n  color: #000000;\n}\n#T_e491a_row2_col5, #T_e491a_row8_col2 {\n  background-color: #f6a586;\n  color: #000000;\n}\n#T_e491a_row2_col6 {\n  background-color: #f7b99e;\n  color: #000000;\n}\n#T_e491a_row2_col7 {\n  background-color: #f39778;\n  color: #000000;\n}\n#T_e491a_row2_col8 {\n  background-color: #f6a283;\n  color: #000000;\n}\n#T_e491a_row3_col1 {\n  background-color: #f49a7b;\n  color: #000000;\n}\n#T_e491a_row3_col2 {\n  background-color: #779af7;\n  color: #f1f1f1;\n}\n#T_e491a_row3_col4, #T_e491a_row3_col7 {\n  background-color: #f39577;\n  color: #000000;\n}\n#T_e491a_row3_col5 {\n  background-color: #ec7f63;\n  color: #f1f1f1;\n}\n#T_e491a_row3_col6 {\n  background-color: #e46e56;\n  color: #f1f1f1;\n}\n#T_e491a_row4_col0 {\n  background-color: #9fbfff;\n  color: #000000;\n}\n#T_e491a_row4_col1, #T_e491a_row6_col3 {\n  background-color: #dc5d4a;\n  color: #f1f1f1;\n}\n#T_e491a_row4_col2 {\n  background-color: #f3c7b1;\n  color: #000000;\n}\n#T_e491a_row4_col3 {\n  background-color: #e7745b;\n  color: #f1f1f1;\n}\n#T_e491a_row4_col5, #T_e491a_row5_col4 {\n  background-color: #dd5f4b;\n  color: #f1f1f1;\n}\n#T_e491a_row4_col6 {\n  background-color: #d95847;\n  color: #f1f1f1;\n}\n#T_e491a_row4_col7 {\n  background-color: #d75445;\n  color: #f1f1f1;\n}\n#T_e491a_row4_col8 {\n  background-color: #b7cff9;\n  color: #000000;\n}\n#T_e491a_row5_col0 {\n  background-color: #9ebeff;\n  color: #000000;\n}\n#T_e491a_row5_col2 {\n  background-color: #f5c2aa;\n  color: #000000;\n}\n#T_e491a_row5_col3 {\n  background-color: #e0654f;\n  color: #f1f1f1;\n}\n#T_e491a_row5_col6 {\n  background-color: #c53334;\n  color: #f1f1f1;\n}\n#T_e491a_row5_col7, #T_e491a_row7_col5 {\n  background-color: #c12b30;\n  color: #f1f1f1;\n}\n#T_e491a_row5_col8 {\n  background-color: #ccd9ed;\n  color: #000000;\n}\n#T_e491a_row6_col0 {\n  background-color: #84a7fc;\n  color: #f1f1f1;\n}\n#T_e491a_row6_col1 {\n  background-color: #c83836;\n  color: #f1f1f1;\n}\n#T_e491a_row6_col2 {\n  background-color: #dddcdc;\n  color: #000000;\n}\n#T_e491a_row6_col7 {\n  background-color: #d24b40;\n  color: #f1f1f1;\n}\n#T_e491a_row6_col8 {\n  background-color: #abc8fd;\n  color: #000000;\n}\n#T_e491a_row7_col0 {\n  background-color: #aec9fc;\n  color: #000000;\n}\n#T_e491a_row7_col1 {\n  background-color: #cd423b;\n  color: #f1f1f1;\n}\n#T_e491a_row7_col2 {\n  background-color: #f7ac8e;\n  color: #000000;\n}\n#T_e491a_row7_col3 {\n  background-color: #e57058;\n  color: #f1f1f1;\n}\n#T_e491a_row7_col4 {\n  background-color: #d55042;\n  color: #f1f1f1;\n}\n#T_e491a_row7_col6 {\n  background-color: #cf453c;\n  color: #f1f1f1;\n}\n#T_e491a_row7_col8 {\n  background-color: #dedcdb;\n  color: #000000;\n}\n#T_e491a_row8_col0 {\n  background-color: #d3dbe7;\n  color: #000000;\n}\n#T_e491a_row8_col1 {\n  background-color: #f5c4ac;\n  color: #000000;\n}\n#T_e491a_row8_col3 {\n  background-color: #d1dae9;\n  color: #000000;\n}\n#T_e491a_row8_col4 {\n  background-color: #dfdbd9;\n  color: #000000;\n}\n#T_e491a_row8_col5 {\n  background-color: #ecd3c5;\n  color: #000000;\n}\n#T_e491a_row8_col6 {\n  background-color: #e6d7cf;\n  color: #000000;\n}\n#T_e491a_row8_col7 {\n  background-color: #f1cdba;\n  color: #000000;\n}\n</style>\n<table id=\"T_e491a\">\n  <thead>\n    <tr>\n      <th class=\"blank level0\" >&nbsp;</th>\n      <th id=\"T_e491a_level0_col0\" class=\"col_heading level0 col0\" >OLS</th>\n      <th id=\"T_e491a_level0_col1\" class=\"col_heading level0 col1\" >RF</th>\n      <th id=\"T_e491a_level0_col2\" class=\"col_heading level0 col2\" >XGB</th>\n      <th id=\"T_e491a_level0_col3\" class=\"col_heading level0 col3\" >NN2</th>\n      <th id=\"T_e491a_level0_col4\" class=\"col_heading level0 col4\" >NN3</th>\n      <th id=\"T_e491a_level0_col5\" class=\"col_heading level0 col5\" >NN4</th>\n      <th id=\"T_e491a_level0_col6\" class=\"col_heading level0 col6\" >NN5</th>\n      <th id=\"T_e491a_level0_col7\" class=\"col_heading level0 col7\" >NN6</th>\n      <th id=\"T_e491a_level0_col8\" class=\"col_heading level0 col8\" >LSTM</th>\n    </tr>\n  </thead>\n  <tbody>\n    <tr>\n      <th id=\"T_e491a_level0_row0\" class=\"row_heading level0 row0\" >OLS</th>\n      <td id=\"T_e491a_row0_col0\" class=\"data row0 col0\" >1.000000</td>\n      <td id=\"T_e491a_row0_col1\" class=\"data row0 col1\" >0.365300</td>\n      <td id=\"T_e491a_row0_col2\" class=\"data row0 col2\" >0.544300</td>\n      <td id=\"T_e491a_row0_col3\" class=\"data row0 col3\" >0.140300</td>\n      <td id=\"T_e491a_row0_col4\" class=\"data row0 col4\" >0.400500</td>\n      <td id=\"T_e491a_row0_col5\" class=\"data row0 col5\" >0.396600</td>\n      <td id=\"T_e491a_row0_col6\" class=\"data row0 col6\" >0.331900</td>\n      <td id=\"T_e491a_row0_col7\" class=\"data row0 col7\" >0.438800</td>\n      <td id=\"T_e491a_row0_col8\" class=\"data row0 col8\" >0.537700</td>\n    </tr>\n    <tr>\n      <th id=\"T_e491a_level0_row1\" class=\"row_heading level0 row1\" >RF</th>\n      <td id=\"T_e491a_row1_col0\" class=\"data row1 col0\" >0.365300</td>\n      <td id=\"T_e491a_row1_col1\" class=\"data row1 col1\" >1.000000</td>\n      <td id=\"T_e491a_row1_col2\" class=\"data row1 col2\" >0.858000</td>\n      <td id=\"T_e491a_row1_col3\" class=\"data row1 col3\" >0.839800</td>\n      <td id=\"T_e491a_row1_col4\" class=\"data row1 col4\" >0.924900</td>\n      <td id=\"T_e491a_row1_col5\" class=\"data row1 col5\" >0.960000</td>\n      <td id=\"T_e491a_row1_col6\" class=\"data row1 col6\" >0.964300</td>\n      <td id=\"T_e491a_row1_col7\" class=\"data row1 col7\" >0.953700</td>\n      <td id=\"T_e491a_row1_col8\" class=\"data row1 col8\" >0.763900</td>\n    </tr>\n    <tr>\n      <th id=\"T_e491a_level0_row2\" class=\"row_heading level0 row2\" >XGB</th>\n      <td id=\"T_e491a_row2_col0\" class=\"data row2 col0\" >0.544300</td>\n      <td id=\"T_e491a_row2_col1\" class=\"data row2 col1\" >0.858000</td>\n      <td id=\"T_e491a_row2_col2\" class=\"data row2 col2\" >1.000000</td>\n      <td id=\"T_e491a_row2_col3\" class=\"data row2 col3\" >0.631400</td>\n      <td id=\"T_e491a_row2_col4\" class=\"data row2 col4\" >0.824700</td>\n      <td id=\"T_e491a_row2_col5\" class=\"data row2 col5\" >0.831400</td>\n      <td id=\"T_e491a_row2_col6\" class=\"data row2 col6\" >0.773800</td>\n      <td id=\"T_e491a_row2_col7\" class=\"data row2 col7\" >0.864000</td>\n      <td id=\"T_e491a_row2_col8\" class=\"data row2 col8\" >0.872500</td>\n    </tr>\n    <tr>\n      <th id=\"T_e491a_level0_row3\" class=\"row_heading level0 row3\" >NN2</th>\n      <td id=\"T_e491a_row3_col0\" class=\"data row3 col0\" >0.140300</td>\n      <td id=\"T_e491a_row3_col1\" class=\"data row3 col1\" >0.839800</td>\n      <td id=\"T_e491a_row3_col2\" class=\"data row3 col2\" >0.631400</td>\n      <td id=\"T_e491a_row3_col3\" class=\"data row3 col3\" >1.000000</td>\n      <td id=\"T_e491a_row3_col4\" class=\"data row3 col4\" >0.856700</td>\n      <td id=\"T_e491a_row3_col5\" class=\"data row3 col5\" >0.884900</td>\n      <td id=\"T_e491a_row3_col6\" class=\"data row3 col6\" >0.896500</td>\n      <td id=\"T_e491a_row3_col7\" class=\"data row3 col7\" >0.865100</td>\n      <td id=\"T_e491a_row3_col8\" class=\"data row3 col8\" >0.533000</td>\n    </tr>\n    <tr>\n      <th id=\"T_e491a_level0_row4\" class=\"row_heading level0 row4\" >NN3</th>\n      <td id=\"T_e491a_row4_col0\" class=\"data row4 col0\" >0.400500</td>\n      <td id=\"T_e491a_row4_col1\" class=\"data row4 col1\" >0.924900</td>\n      <td id=\"T_e491a_row4_col2\" class=\"data row4 col2\" >0.824700</td>\n      <td id=\"T_e491a_row4_col3\" class=\"data row4 col3\" >0.856700</td>\n      <td id=\"T_e491a_row4_col4\" class=\"data row4 col4\" >1.000000</td>\n      <td id=\"T_e491a_row4_col5\" class=\"data row4 col5\" >0.926200</td>\n      <td id=\"T_e491a_row4_col6\" class=\"data row4 col6\" >0.924800</td>\n      <td id=\"T_e491a_row4_col7\" class=\"data row4 col7\" >0.941800</td>\n      <td id=\"T_e491a_row4_col8\" class=\"data row4 col8\" >0.706500</td>\n    </tr>\n    <tr>\n      <th id=\"T_e491a_level0_row5\" class=\"row_heading level0 row5\" >NN4</th>\n      <td id=\"T_e491a_row5_col0\" class=\"data row5 col0\" >0.396600</td>\n      <td id=\"T_e491a_row5_col1\" class=\"data row5 col1\" >0.960000</td>\n      <td id=\"T_e491a_row5_col2\" class=\"data row5 col2\" >0.831400</td>\n      <td id=\"T_e491a_row5_col3\" class=\"data row5 col3\" >0.884900</td>\n      <td id=\"T_e491a_row5_col4\" class=\"data row5 col4\" >0.926200</td>\n      <td id=\"T_e491a_row5_col5\" class=\"data row5 col5\" >1.000000</td>\n      <td id=\"T_e491a_row5_col6\" class=\"data row5 col6\" >0.967500</td>\n      <td id=\"T_e491a_row5_col7\" class=\"data row5 col7\" >0.978200</td>\n      <td id=\"T_e491a_row5_col8\" class=\"data row5 col8\" >0.738200</td>\n    </tr>\n    <tr>\n      <th id=\"T_e491a_level0_row6\" class=\"row_heading level0 row6\" >NN5</th>\n      <td id=\"T_e491a_row6_col0\" class=\"data row6 col0\" >0.331900</td>\n      <td id=\"T_e491a_row6_col1\" class=\"data row6 col1\" >0.964300</td>\n      <td id=\"T_e491a_row6_col2\" class=\"data row6 col2\" >0.773800</td>\n      <td id=\"T_e491a_row6_col3\" class=\"data row6 col3\" >0.896500</td>\n      <td id=\"T_e491a_row6_col4\" class=\"data row6 col4\" >0.924800</td>\n      <td id=\"T_e491a_row6_col5\" class=\"data row6 col5\" >0.967500</td>\n      <td id=\"T_e491a_row6_col6\" class=\"data row6 col6\" >1.000000</td>\n      <td id=\"T_e491a_row6_col7\" class=\"data row6 col7\" >0.949600</td>\n      <td id=\"T_e491a_row6_col8\" class=\"data row6 col8\" >0.689900</td>\n    </tr>\n    <tr>\n      <th id=\"T_e491a_level0_row7\" class=\"row_heading level0 row7\" >NN6</th>\n      <td id=\"T_e491a_row7_col0\" class=\"data row7 col0\" >0.438800</td>\n      <td id=\"T_e491a_row7_col1\" class=\"data row7 col1\" >0.953700</td>\n      <td id=\"T_e491a_row7_col2\" class=\"data row7 col2\" >0.864000</td>\n      <td id=\"T_e491a_row7_col3\" class=\"data row7 col3\" >0.865100</td>\n      <td id=\"T_e491a_row7_col4\" class=\"data row7 col4\" >0.941800</td>\n      <td id=\"T_e491a_row7_col5\" class=\"data row7 col5\" >0.978200</td>\n      <td id=\"T_e491a_row7_col6\" class=\"data row7 col6\" >0.949600</td>\n      <td id=\"T_e491a_row7_col7\" class=\"data row7 col7\" >1.000000</td>\n      <td id=\"T_e491a_row7_col8\" class=\"data row7 col8\" >0.770100</td>\n    </tr>\n    <tr>\n      <th id=\"T_e491a_level0_row8\" class=\"row_heading level0 row8\" >LSTM</th>\n      <td id=\"T_e491a_row8_col0\" class=\"data row8 col0\" >0.537700</td>\n      <td id=\"T_e491a_row8_col1\" class=\"data row8 col1\" >0.763900</td>\n      <td id=\"T_e491a_row8_col2\" class=\"data row8 col2\" >0.872500</td>\n      <td id=\"T_e491a_row8_col3\" class=\"data row8 col3\" >0.533000</td>\n      <td id=\"T_e491a_row8_col4\" class=\"data row8 col4\" >0.706500</td>\n      <td id=\"T_e491a_row8_col5\" class=\"data row8 col5\" >0.738200</td>\n      <td id=\"T_e491a_row8_col6\" class=\"data row8 col6\" >0.689900</td>\n      <td id=\"T_e491a_row8_col7\" class=\"data row8 col7\" >0.770100</td>\n      <td id=\"T_e491a_row8_col8\" class=\"data row8 col8\" >1.000000</td>\n    </tr>\n  </tbody>\n</table>\n"
     },
     "execution_count": 200,
     "metadata": {},
     "output_type": "execute_result"
    }
   ],
   "source": [
    "df_corr = pd.concat([cum_OLS_Q_strategy_return.pct_change()[13:].rename('OLS'),\n",
    "                     cum_RF_Q_strategy_return.pct_change()[7:].rename('RF'),\n",
    "                     cum_XGB_Q_strategy_return.pct_change()[7:].rename('XGB'),\n",
    "                     cum_NN2_Q_strategy_return.pct_change()[7:].rename('NN2'),\n",
    "                     cum_NN3_Q_strategy_return.pct_change()[7:].rename('NN3'),\n",
    "                     cum_NN4_Q_strategy_return.pct_change()[7:].rename('NN4'),\n",
    "                     cum_NN5_Q_strategy_return.pct_change()[7:].rename('NN5'),\n",
    "                     cum_NN6_Q_strategy_return.pct_change()[7:].rename('NN6'),\n",
    "                     cum_LSTM_Q_strategy_return.pct_change()[1:].rename('LSTM'),], axis=1)\n",
    "\n",
    "corr = df_corr.corr().round(4)\n",
    "corr.to_csv('temp_data.csv')\n",
    "corr.style.background_gradient(cmap='coolwarm')"
   ],
   "metadata": {
    "collapsed": false
   }
  }
 ],
 "metadata": {
  "kernelspec": {
   "display_name": "Python 3 (ipykernel)",
   "language": "python",
   "name": "python3"
  },
  "language_info": {
   "codemirror_mode": {
    "name": "ipython",
    "version": 3
   },
   "file_extension": ".py",
   "mimetype": "text/x-python",
   "name": "python",
   "nbconvert_exporter": "python",
   "pygments_lexer": "ipython3",
   "version": "3.8.12"
  }
 },
 "nbformat": 4,
 "nbformat_minor": 1
}
