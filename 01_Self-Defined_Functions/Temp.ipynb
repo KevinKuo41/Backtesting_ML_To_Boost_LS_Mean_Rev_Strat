{
 "cells": [
  {
   "cell_type": "code",
   "execution_count": null,
   "metadata": {
    "collapsed": true
   },
   "outputs": [],
   "source": [
    "def get_price_df(signal, returns, nav=100, model_type=None):\n",
    "    \"\"\"\n",
    "    Combine a dataframe containing monthly buying (1), selling (-1), or doing nothing (0) signal with a dataframe\n",
    "    containing monthly return data into a dataframe containing an accumulated return NAV time series data with a\n",
    "    designated initial NAV.\n",
    "\n",
    "    :param signal: pd.dataframe, a panel dataframe with monthly buying (1), selling (-1),  or doing nothing (0) signal\n",
    "                   for several assets (as columns) over an arbitrary timespan (as index).\n",
    "    :param returns: pd.dataframe, a panel dataframe with several assets' monthly returns over an arbitrary timespan.\n",
    "    :param nav: float or integer, a figure used to be the initial NAV (100 dollars by default)\n",
    "    :param model_type: boolean or str, it can be None, 'ML', 'LSTM' or '13'.\n",
    "    :return: a dataframe of an accumulated return series with designated initial NAV.\n",
    "    \"\"\"\n",
    "    if model_type is None:\n",
    "        initial1 = pd.Series({'1998-04-30':nav})\n",
    "        initial1.index = pd.to_datetime(initial1.index, format='%Y-%m-%d')\n",
    "        returns.index = returns.index.astype('str')\n",
    "\n",
    "        signal.index = signal.index.astype('str')\n",
    "        ols_strategy_monthly_return = (signal * returns).sum(axis=1) / abs(signal).sum(axis=1)\n",
    "        cum_ols_strategy_return = nav * (1 + ols_strategy_monthly_return).cumprod().dropna()\n",
    "        cum_ols_strategy_return.index = pd.to_datetime(cum_ols_strategy_return.index, format='%Y-%m') + pd.tseries.offsets.MonthEnd(1)\n",
    "        cum_ols_strategy_return = pd.concat([initial1, cum_ols_strategy_return], axis=0)\n",
    "        return cum_ols_strategy_return\n",
    "\n",
    "    elif model_type == 'ML':\n",
    "        initial2 = pd.Series({'1998-10-31':nav})\n",
    "        initial2.index = pd.to_datetime(initial2.index, format='%Y-%m-%d')\n",
    "        returns.index = returns.index.astype('str')\n",
    "\n",
    "        signal.index = signal.index.astype('str')\n",
    "        ml_strategy_monthly_return = (signal * returns).sum(axis=1) / abs(signal).sum(axis=1)\n",
    "        cum_ml_strategy_return = nav * (1 + ml_strategy_monthly_return).cumprod().dropna()\n",
    "        cum_ml_strategy_return.index = pd.to_datetime(cum_ml_strategy_return.index, format='%Y-%m') + pd.tseries.offsets.MonthEnd(1)\n",
    "        cum_ml_strategy_return = cum_ml_strategy_return['1998-11-30':]\n",
    "        cum_ml_strategy_return = pd.concat([initial2, cum_ml_strategy_return], axis=0)\n",
    "        return cum_ml_strategy_return\n",
    "\n",
    "    elif model_type == 'LSTM':\n",
    "        initial3 = pd.Series({'1999-04-30':nav})\n",
    "        initial3.index = pd.to_datetime(initial3.index, format='%Y-%m-%d')\n",
    "        returns.index = returns.index.astype('str')\n",
    "\n",
    "        signal.index = signal.index.astype('str')\n",
    "        ml_strategy_monthly_return = (signal * returns).sum(axis=1) / abs(signal).sum(axis=1)\n",
    "        cum_ml_strategy_return = nav * (1 + ml_strategy_monthly_return).cumprod().dropna()\n",
    "        cum_ml_strategy_return.index = pd.to_datetime(cum_ml_strategy_return.index, format='%Y-%m') + pd.tseries.offsets.MonthEnd(1)\n",
    "        cum_ml_strategy_return = cum_ml_strategy_return['1998-11-30':]\n",
    "        cum_ml_strategy_return = pd.concat([initial3, cum_ml_strategy_return], axis=0)\n",
    "        return cum_ml_strategy_return\n",
    "\n",
    "    elif model_type == '13':\n",
    "        initial4 = pd.Series({'2012-12-31':nav})\n",
    "        initial4.index = pd.to_datetime(initial4.index, format='%Y-%m-%d')\n",
    "        returns.index = returns.index.astype('str')\n",
    "\n",
    "        signal.index = signal.index.astype('str')\n",
    "        ml_strategy_monthly_return = (signal * returns).sum(axis=1) / abs(signal).sum(axis=1)\n",
    "        cum_ml_strategy_return = nav * (1 + ml_strategy_monthly_return).cumprod().dropna()\n",
    "        cum_ml_strategy_return.index = pd.to_datetime(cum_ml_strategy_return.index, format='%Y-%m') + pd.tseries.offsets.MonthEnd(1)\n",
    "        cum_ml_strategy_return = cum_ml_strategy_return['1998-11-30':]\n",
    "        cum_ml_strategy_return = pd.concat([initial4, cum_ml_strategy_return], axis=0)\n",
    "        return cum_ml_strategy_return"
   ]
  }
 ],
 "metadata": {
  "kernelspec": {
   "display_name": "Python 3",
   "language": "python",
   "name": "python3"
  },
  "language_info": {
   "codemirror_mode": {
    "name": "ipython",
    "version": 2
   },
   "file_extension": ".py",
   "mimetype": "text/x-python",
   "name": "python",
   "nbconvert_exporter": "python",
   "pygments_lexer": "ipython2",
   "version": "2.7.6"
  }
 },
 "nbformat": 4,
 "nbformat_minor": 0
}
