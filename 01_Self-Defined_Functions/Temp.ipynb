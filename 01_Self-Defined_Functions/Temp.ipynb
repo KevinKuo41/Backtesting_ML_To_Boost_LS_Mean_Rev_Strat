{
 "cells": [
  {
   "cell_type": "code",
   "execution_count": null,
   "metadata": {
    "collapsed": true
   },
   "outputs": [],
   "source": [
    "def get_performance_stats(prices, rfr=0, label=None):\n",
    "    \"\"\"\n",
    "    Generate the performance stats for a time-series price data.\n",
    "\n",
    "    :param prices: pd.Series or np.array\n",
    "    :param rfr: risk-free returns as pd.Series or np.array (0 by default)\n",
    "    :param label: strings, column label as string\n",
    "    :return: stats - pd.dataframe with statistics (performance measures) organized by row with exact labels:\n",
    "             Tot Ret     - total cumulative return over the whole period\n",
    "             Avg Ret     - average annualised return\n",
    "             rfr         - average annualised risk-free return\n",
    "             Std         - annualised standard deviation\n",
    "             SR          - annualised Sharpe Ratio\n",
    "             Skew        - skewness (same frequency as prices)\n",
    "             Kurt        - kurtosis (same frequency as prices)\n",
    "             HWM         - High Water Mark price, i.e. the highest price ever achieved\n",
    "             HWM date    - date of the HWM\n",
    "             MDD         - Maximum Drawdown as positive proportional loss from prior peak\n",
    "             Peak date   - Date of the MDD peak\n",
    "             Trough date - Date of the MDD trough\n",
    "             Rec date    - Date the asset recovered from Drawdown loss\n",
    "             MDD dur     - MDD duration in days from peak to recovery date\n",
    "    \"\"\"\n",
    "\n",
    "    month = 12 # Number of month in a year\n",
    "    # Pre-allocate empty dataframe\n",
    "    if label is None:\n",
    "        stats = pd.DataFrame(index=[0])\n",
    "    else:\n",
    "        stats = pd.DataFrame(index=[label])\n",
    "\n",
    "    returns = prices.pct_change()\n",
    "    last_index = prices.shape[0] - 1  # need - 1 since array referencing starts from 0\n",
    "    p_last = prices[last_index]\n",
    "    stats['Total Return'] = (p_last - prices[0]) / prices[0]  # (prices[ prices.shape[0]] / prices[0])-1 does same in 1 step\n",
    "    stats['Avg Return'] = (1 + stats['Total Return']) ** (12 / len(prices)) - 1\n",
    "    stats['Rf Rate'] = rfr.mean(axis=0)[0]  # Note the convention for interbank rate is 365 days\n",
    "    stats['Volatility'] = returns.std() * np.sqrt(month)  # sigma*sqrt(T)\n",
    "    stats['Sharpe Ratio']  = (stats['Avg Return'] - stats['Rf Rate']) / stats['Volatility'] # Sharpe Ratio\n",
    "    stats['Skewness'] = returns.skew()  # For normal should be 0\n",
    "    stats['Kurtosis'] = returns.kurtosis()  # For normal should be 3\n",
    "    hwm_time = prices.idxmax() # returns argument corresponding to max price (i.e. Timestamp)\n",
    "    stats['HWM'] = prices.max() # returns max price\n",
    "    stats['HWM date'] = hwm_time.date()  # converts Timestamp('2018-01-26 00:00:00') to datetime.date(2018, 1, 26)\n",
    "    dd = prices.cummax() - prices # get all Draw downs: diffs between cumulative max price and current price\n",
    "    end_mdd  = dd.idxmax()\n",
    "    start_mdd = prices[:end_mdd].idxmax()\n",
    "    # Maximum Draw down as positive proportional loss from peak\n",
    "    stats['MDD'] = 1 - prices[end_mdd] / prices[start_mdd]  # (same as P_start - P_end) / P_start\n",
    "    stats['Peak Date'] = start_mdd.date()\n",
    "    stats['Trough Date'] = end_mdd.date()\n",
    "    bool_p = prices[end_mdd:] > prices[start_mdd] # True/False current price > price of DD peak\n",
    "\n",
    "    if bool_p.idxmax().date() > bool_p.idxmin().date():\n",
    "        stats['Recession Date'] = bool_p.idxmax().date()\n",
    "        stats['MDD Duration'] = (stats['Recession Date'] - stats['Peak Date'])[0].days\n",
    "        # MDD duration in days from peak to recovery date\n",
    "    else:\n",
    "        stats['Recession Date'] = stats['MDD Duration']  = 'Yet to recover'\n",
    "    return stats"
   ]
  }
 ],
 "metadata": {
  "kernelspec": {
   "display_name": "Python 3",
   "language": "python",
   "name": "python3"
  },
  "language_info": {
   "codemirror_mode": {
    "name": "ipython",
    "version": 2
   },
   "file_extension": ".py",
   "mimetype": "text/x-python",
   "name": "python",
   "nbconvert_exporter": "python",
   "pygments_lexer": "ipython2",
   "version": "2.7.6"
  }
 },
 "nbformat": 4,
 "nbformat_minor": 0
}
